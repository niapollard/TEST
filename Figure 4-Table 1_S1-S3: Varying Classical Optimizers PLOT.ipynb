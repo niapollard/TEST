{
  "cells": [
    {
      "cell_type": "markdown",
      "metadata": {
        "id": "view-in-github",
        "colab_type": "text"
      },
      "source": [
        "<a href=\"https://colab.research.google.com/github/niapollard/TEST/blob/main/Figure%204-Table%201_S1-S3%3A%20Varying%20Classical%20Optimizers%20PLOT.ipynb\" target=\"_parent\"><img src=\"https://colab.research.google.com/assets/colab-badge.svg\" alt=\"Open In Colab\"/></a>"
      ]
    },
    {
      "cell_type": "code",
      "execution_count": null,
      "metadata": {
        "id": "F4xuiL-DchKK",
        "colab": {
          "base_uri": "https://localhost:8080/"
        },
        "outputId": "45bd5359-ab25-4c87-87ff-b1860c4c681e"
      },
      "outputs": [
        {
          "output_type": "stream",
          "name": "stdout",
          "text": [
            "\u001b[?25l     \u001b[90m━━━━━━━━━━━━━━━━━━━━━━━━━━━━━━━━━━━━━━━━\u001b[0m \u001b[32m0.0/4.2 MB\u001b[0m \u001b[31m?\u001b[0m eta \u001b[36m-:--:--\u001b[0m\r\u001b[2K     \u001b[90m━━━━━━━━━━━━━━━━━━━━━━━━━━━━━━━━━━━━━━━━\u001b[0m \u001b[32m0.0/4.2 MB\u001b[0m \u001b[31m439.8 kB/s\u001b[0m eta \u001b[36m0:00:10\u001b[0m\r\u001b[2K     \u001b[91m╸\u001b[0m\u001b[90m━━━━━━━━━━━━━━━━━━━━━━━━━━━━━━━━━━━━━━━\u001b[0m \u001b[32m0.1/4.2 MB\u001b[0m \u001b[31m1.3 MB/s\u001b[0m eta \u001b[36m0:00:04\u001b[0m\r\u001b[2K     \u001b[91m━━━━━━\u001b[0m\u001b[91m╸\u001b[0m\u001b[90m━━━━━━━━━━━━━━━━━━━━━━━━━━━━━━━━━\u001b[0m \u001b[32m0.7/4.2 MB\u001b[0m \u001b[31m6.9 MB/s\u001b[0m eta \u001b[36m0:00:01\u001b[0m\r\u001b[2K     \u001b[91m━━━━━━━━━━━━━━━━━━━━━━━━━━\u001b[0m\u001b[91m╸\u001b[0m\u001b[90m━━━━━━━━━━━━━\u001b[0m \u001b[32m2.8/4.2 MB\u001b[0m \u001b[31m20.1 MB/s\u001b[0m eta \u001b[36m0:00:01\u001b[0m\r\u001b[2K     \u001b[91m━━━━━━━━━━━━━━━━━━━━━━━━━━━━━━━━━━━━━━━\u001b[0m\u001b[91m╸\u001b[0m \u001b[32m4.2/4.2 MB\u001b[0m \u001b[31m26.4 MB/s\u001b[0m eta \u001b[36m0:00:01\u001b[0m\r\u001b[2K     \u001b[91m━━━━━━━━━━━━━━━━━━━━━━━━━━━━━━━━━━━━━━━\u001b[0m\u001b[91m╸\u001b[0m \u001b[32m4.2/4.2 MB\u001b[0m \u001b[31m26.4 MB/s\u001b[0m eta \u001b[36m0:00:01\u001b[0m\r\u001b[2K     \u001b[90m━━━━━━━━━━━━━━━━━━━━━━━━━━━━━━━━━━━━━━━━\u001b[0m \u001b[32m4.2/4.2 MB\u001b[0m \u001b[31m18.8 MB/s\u001b[0m eta \u001b[36m0:00:00\u001b[0m\n",
            "\u001b[?25h  Installing build dependencies ... \u001b[?25l\u001b[?25hdone\n",
            "  Getting requirements to build wheel ... \u001b[?25l\u001b[?25hdone\n",
            "  Installing backend dependencies ... \u001b[?25l\u001b[?25hdone\n",
            "  Preparing metadata (pyproject.toml) ... \u001b[?25l\u001b[?25hdone\n",
            "\u001b[2K     \u001b[90m━━━━━━━━━━━━━━━━━━━━━━━━━━━━━━━━━━━━━━━━\u001b[0m \u001b[32m5.9/5.9 MB\u001b[0m \u001b[31m71.9 MB/s\u001b[0m eta \u001b[36m0:00:00\u001b[0m\n",
            "\u001b[2K     \u001b[90m━━━━━━━━━━━━━━━━━━━━━━━━━━━━━━━━━━━━━━━━\u001b[0m \u001b[32m12.8/12.8 MB\u001b[0m \u001b[31m51.9 MB/s\u001b[0m eta \u001b[36m0:00:00\u001b[0m\n",
            "\u001b[2K     \u001b[90m━━━━━━━━━━━━━━━━━━━━━━━━━━━━━━━━━━━━━━━━\u001b[0m \u001b[32m241.5/241.5 kB\u001b[0m \u001b[31m21.4 MB/s\u001b[0m eta \u001b[36m0:00:00\u001b[0m\n",
            "\u001b[2K     \u001b[90m━━━━━━━━━━━━━━━━━━━━━━━━━━━━━━━━━━━━━━━━\u001b[0m \u001b[32m17.1/17.1 MB\u001b[0m \u001b[31m23.7 MB/s\u001b[0m eta \u001b[36m0:00:00\u001b[0m\n",
            "\u001b[2K     \u001b[90m━━━━━━━━━━━━━━━━━━━━━━━━━━━━━━━━━━━━━━━━\u001b[0m \u001b[32m130.2/130.2 kB\u001b[0m \u001b[31m15.7 MB/s\u001b[0m eta \u001b[36m0:00:00\u001b[0m\n",
            "\u001b[2K     \u001b[90m━━━━━━━━━━━━━━━━━━━━━━━━━━━━━━━━━━━━━━━━\u001b[0m \u001b[32m2.1/2.1 MB\u001b[0m \u001b[31m74.4 MB/s\u001b[0m eta \u001b[36m0:00:00\u001b[0m\n",
            "\u001b[2K     \u001b[90m━━━━━━━━━━━━━━━━━━━━━━━━━━━━━━━━━━━━━━━━\u001b[0m \u001b[32m49.6/49.6 kB\u001b[0m \u001b[31m5.8 MB/s\u001b[0m eta \u001b[36m0:00:00\u001b[0m\n",
            "\u001b[2K     \u001b[90m━━━━━━━━━━━━━━━━━━━━━━━━━━━━━━━━━━━━━━━━\u001b[0m \u001b[32m116.3/116.3 kB\u001b[0m \u001b[31m13.9 MB/s\u001b[0m eta \u001b[36m0:00:00\u001b[0m\n",
            "\u001b[2K     \u001b[90m━━━━━━━━━━━━━━━━━━━━━━━━━━━━━━━━━━━━━━━━\u001b[0m \u001b[32m49.7/49.7 kB\u001b[0m \u001b[31m5.4 MB/s\u001b[0m eta \u001b[36m0:00:00\u001b[0m\n",
            "\u001b[2K     \u001b[90m━━━━━━━━━━━━━━━━━━━━━━━━━━━━━━━━━━━━━━━━\u001b[0m \u001b[32m37.5/37.5 MB\u001b[0m \u001b[31m35.4 MB/s\u001b[0m eta \u001b[36m0:00:00\u001b[0m\n",
            "\u001b[2K     \u001b[90m━━━━━━━━━━━━━━━━━━━━━━━━━━━━━━━━━━━━━━━━\u001b[0m \u001b[32m809.2/809.2 kB\u001b[0m \u001b[31m50.8 MB/s\u001b[0m eta \u001b[36m0:00:00\u001b[0m\n",
            "\u001b[2K     \u001b[90m━━━━━━━━━━━━━━━━━━━━━━━━━━━━━━━━━━━━━━━━\u001b[0m \u001b[32m107.5/107.5 kB\u001b[0m \u001b[31m12.6 MB/s\u001b[0m eta \u001b[36m0:00:00\u001b[0m\n",
            "\u001b[?25h  Building wheel for qiskit (pyproject.toml) ... \u001b[?25l\u001b[?25hdone\n",
            "\u001b[31mERROR: pip's dependency resolver does not currently take into account all the packages that are installed. This behaviour is the source of the following dependency conflicts.\n",
            "chex 0.1.86 requires numpy>=1.24.1, but you have numpy 1.23.5 which is incompatible.\n",
            "pandas-stubs 2.0.3.230814 requires numpy>=1.25.0; python_version >= \"3.9\", but you have numpy 1.23.5 which is incompatible.\u001b[0m\u001b[31m\n",
            "\u001b[0m"
          ]
        }
      ],
      "source": [
        "!pip install -q numpy==1.23.5 jarvis-tools qiskit==0.43.1 qiskit_nature==0.6.2 pyscf qiskit-aer==0.12.0"
      ]
    },
    {
      "cell_type": "markdown",
      "source": [
        "Restart the session to succesfully run cells"
      ],
      "metadata": {
        "id": "m0pn1WcdqXRh"
      }
    },
    {
      "cell_type": "code",
      "execution_count": null,
      "metadata": {
        "id": "vlts5ECVdCtu"
      },
      "outputs": [],
      "source": [
        "import numpy as np\n",
        "\n",
        "# Importing standard Qiskit libraries\n",
        "from qiskit import QuantumCircuit, transpile, Aer, IBMQ\n",
        "from qiskit.tools.jupyter import *\n",
        "from qiskit.visualization import *"
      ]
    },
    {
      "cell_type": "code",
      "execution_count": null,
      "metadata": {
        "id": "rYXkS1wKdMfO"
      },
      "outputs": [],
      "source": [
        "from qiskit import Aer\n",
        "from qiskit_nature.drivers import UnitsType, Molecule\n",
        "from qiskit_nature.drivers.second_quantization import (\n",
        "    ElectronicStructureDriverType,\n",
        "    ElectronicStructureMoleculeDriver,\n",
        ")\n",
        "from qiskit_nature.problems.second_quantization import ElectronicStructureProblem\n",
        "from qiskit_nature.converters.second_quantization import QubitConverter\n",
        "from qiskit_nature.mappers.second_quantization import JordanWignerMapper\n",
        "from qiskit_nature.drivers.second_quantization import PySCFDriver\n",
        "from qiskit_nature.drivers.second_quantization import MethodType"
      ]
    },
    {
      "cell_type": "code",
      "execution_count": null,
      "metadata": {
        "id": "rGxnAltVgEqM"
      },
      "outputs": [],
      "source": [
        "import time\n",
        "\n",
        "start_time = time.time()"
      ]
    },
    {
      "cell_type": "code",
      "execution_count": null,
      "metadata": {
        "id": "l1ojdGj0diap"
      },
      "outputs": [],
      "source": [
        "molecule = Molecule(\n",
        "    geometry=[['Al',[0.00000000, 0.00000000, 0.00000000]]],\n",
        "    charge=-1,\n",
        "    multiplicity=1)\n",
        "# multiplicity has to be that active space is even therefore should always be 1 (2s+1)\n",
        "# charge has to be that active space is even therefore species with an odd number of atoms should have a charge of -1\n",
        "MethodType = MethodType.RKS\n",
        "\n",
        "driver = ElectronicStructureMoleculeDriver(\n",
        "    molecule, basis=\"sto3g\", method=MethodType, driver_type=ElectronicStructureDriverType.PYSCF\n",
        ")\n",
        "\n",
        "properties = driver.run()\n",
        "problem = ElectronicStructureProblem(driver)\n",
        "qubit_converter = QubitConverter(JordanWignerMapper())"
      ]
    },
    {
      "cell_type": "code",
      "execution_count": null,
      "metadata": {
        "id": "C4YbfsnTPuaQ",
        "colab": {
          "base_uri": "https://localhost:8080/"
        },
        "outputId": "344c9ea7-0a14-4574-ab5a-3596fe0e4ec6"
      },
      "outputs": [
        {
          "output_type": "stream",
          "name": "stdout",
          "text": [
            "Fermionic Operator\n",
            "register length=18, number terms=18\n",
            "  (1+0j) * ( +_0 -_0 )\n",
            "+ (1+0j) * ( +_1 -_1 )\n",
            "+ (1+0j) * ( +_2 -_2 )\n",
            "+ (1+0j) * ( +_3 -_3 )\n",
            "+ (1+0j) * ( +_4 -_4 )\n",
            "+ (1+0j) * ( +_5 -_5 )\n",
            "+ (1+0j) * ( +_6 -_6 )\n",
            "+ (1+0j) * ( +_7 -_7 )\n",
            "+ (1+0j) * ( ...\n"
          ]
        }
      ],
      "source": [
        "second_q_ops = problem.second_q_ops()\n",
        "second_q_ops = list(second_q_ops.values()) #list of second quantized operators\n",
        "hamiltonian = second_q_ops[0] #Hamiltonian is the first term\n",
        "print(hamiltonian)"
      ]
    },
    {
      "cell_type": "code",
      "execution_count": null,
      "metadata": {
        "id": "owdoYo0SRO6A"
      },
      "outputs": [],
      "source": [
        "#lists the full hamiltonian\n",
        "#hamiltonian.to_list()"
      ]
    },
    {
      "cell_type": "code",
      "execution_count": null,
      "metadata": {
        "id": "u1aO1Ot9W7Q0",
        "colab": {
          "base_uri": "https://localhost:8080/"
        },
        "outputId": "8051b2f9-c1e9-42f1-a19b-d6a79f0f9e08"
      },
      "outputs": [
        {
          "output_type": "stream",
          "name": "stderr",
          "text": [
            "<ipython-input-11-d9d9d0820b7f>:3: DeprecationWarning: The class ``qiskit.algorithms.minimum_eigen_solvers.numpy_minimum_eigen_solver.NumPyMinimumEigensolver`` is deprecated as of qiskit-terra 0.24.0. It will be removed no earlier than 3 months after the release date. Instead, use the class ``qiskit.algorithms.minimum_eigensolvers.NumPyMinimumEigensolver``. See https://qisk.it/algo_migration for a migration guide.\n",
            "  numpy_solver = NumPyMinimumEigensolver()\n"
          ]
        }
      ],
      "source": [
        "from qiskit.algorithms import NumPyMinimumEigensolver\n",
        "\n",
        "numpy_solver = NumPyMinimumEigensolver()"
      ]
    },
    {
      "cell_type": "code",
      "execution_count": null,
      "metadata": {
        "id": "VkHSPE0hTk8e"
      },
      "outputs": [],
      "source": [
        "tmp = properties.get_property('ParticleNumber')\n",
        "alpha_occ=tmp.occupation_alpha\n",
        "beta_occ=tmp.occupation_beta"
      ]
    },
    {
      "cell_type": "code",
      "execution_count": null,
      "metadata": {
        "id": "9uC0mPvuUqAD",
        "colab": {
          "base_uri": "https://localhost:8080/"
        },
        "outputId": "21421cb0-cde6-44f6-a5bc-2f3e6f8ac3de"
      },
      "outputs": [
        {
          "output_type": "execute_result",
          "data": {
            "text/plain": [
              "array([1., 1., 1., 1., 1., 1., 1., 0., 0.])"
            ]
          },
          "metadata": {},
          "execution_count": 13
        }
      ],
      "source": [
        "alpha_occ"
      ]
    },
    {
      "cell_type": "code",
      "execution_count": null,
      "metadata": {
        "id": "MgwUfe8OU2rp",
        "colab": {
          "base_uri": "https://localhost:8080/"
        },
        "outputId": "c7335f28-8cb5-430f-fbfc-79e7b04da76d"
      },
      "outputs": [
        {
          "output_type": "execute_result",
          "data": {
            "text/plain": [
              "array([5, 6, 7])"
            ]
          },
          "metadata": {},
          "execution_count": 14
        }
      ],
      "source": [
        "import numpy as np\n",
        "mo_considered=3\n",
        "#active and inactive space has to be even, non-magnetic\n",
        "\n",
        "first_index = min(np.where(alpha_occ<1)[0][0],np.where(beta_occ<1)[0][0])\n",
        "\n",
        "orb_act = np.arange(first_index-mo_considered,first_index)+1\n",
        "orb_act"
      ]
    },
    {
      "cell_type": "code",
      "execution_count": null,
      "metadata": {
        "id": "Uzfa4krpdmks",
        "colab": {
          "base_uri": "https://localhost:8080/"
        },
        "outputId": "70f25bce-0d53-422a-ad26-03c386b303ac"
      },
      "outputs": [
        {
          "output_type": "stream",
          "name": "stdout",
          "text": [
            "Fermionic Operator\n",
            "register length=6, number terms=6\n",
            "  (1+0j) * ( +_0 -_0 )\n",
            "+ (1+0j) * ( +_1 -_1 )\n",
            "+ (1+0j) * ( +_2 -_2 )\n",
            "+ (1+0j) * ( +_3 -_3 )\n",
            "+ (1+0j) * ( +_4 -_4 )\n",
            "+ (1+0j) * ( +_5 -_5 )\n"
          ]
        }
      ],
      "source": [
        "from qiskit_nature.transformers.second_quantization.electronic.active_space_transformer import ActiveSpaceTransformer\n",
        "\n",
        "#orb_act   = []\n",
        "transformer= ActiveSpaceTransformer(num_electrons=mo_considered+1, num_molecular_orbitals=len(orb_act), active_orbitals=orb_act)\n",
        "problem_reduced = ElectronicStructureProblem(driver, [transformer])\n",
        "second_q_ops_reduced = problem_reduced.second_q_ops()\n",
        "\n",
        "second_q_ops_reduced = list(second_q_ops_reduced.values())\n",
        "hamiltonian_reduced = second_q_ops_reduced[0]\n",
        "print(hamiltonian_reduced)"
      ]
    },
    {
      "cell_type": "code",
      "execution_count": null,
      "metadata": {
        "id": "PMpNvQAcd4Fl",
        "colab": {
          "base_uri": "https://localhost:8080/"
        },
        "outputId": "6bb92306-c604-45d2-fd13-24db216c8c75"
      },
      "outputs": [
        {
          "output_type": "stream",
          "name": "stdout",
          "text": [
            "3.0 * IIIIII\n",
            "- 0.5 * IIIIIZ\n",
            "- 0.5 * IIIIZI\n",
            "- 0.5 * IIIZII\n",
            "- 0.5 * IIZIII\n",
            "- 0.5 * IZIIII\n",
            "- 0.5 * ZIIIII\n"
          ]
        }
      ],
      "source": [
        "from qiskit_nature.converters.second_quantization import QubitConverter\n",
        "from qiskit_nature.mappers.second_quantization import JordanWignerMapper, ParityMapper\n",
        "\n",
        "mapper = JordanWignerMapper()\n",
        "converter = QubitConverter(mapper=mapper)\n",
        "qubit_op_jw = converter.convert(hamiltonian_reduced)\n",
        "print(qubit_op_jw) #weighted sum of Pauli terms"
      ]
    },
    {
      "cell_type": "code",
      "execution_count": null,
      "metadata": {
        "id": "DfCVU69bdRAe",
        "colab": {
          "base_uri": "https://localhost:8080/"
        },
        "outputId": "527c8673-694c-4a5d-ecd6-41c90ba307ba"
      },
      "outputs": [
        {
          "output_type": "stream",
          "name": "stderr",
          "text": [
            "<ipython-input-17-890149a85712>:8: NatureDeprecationWarning: The qiskit_nature.algorithms.excited_state_solvers package is deprecated as of version 0.5.0 and will be removed no sooner than 3 months after the release. Instead use the qiskit_nature.second_q.algorithms.excited_state_solvers package.\n",
            "  from qiskit_nature.algorithms.ground_state_solvers import GroundStateEigensolver\n",
            "<ipython-input-17-890149a85712>:8: NatureDeprecationWarning: The qiskit_nature.algorithms.pes_sampler package is deprecated as of version 0.5.0 and will be removed no sooner than 3 months after the release . Please refer to 'https://github.com/Qiskit/qiskit-nature/issues/750' for additional information regarding 'extrapolators'.\n",
            "  from qiskit_nature.algorithms.ground_state_solvers import GroundStateEigensolver\n"
          ]
        }
      ],
      "source": [
        "from qiskit.utils import QuantumInstance, algorithm_globals\n",
        "from qiskit.algorithms import VQE\n",
        "from qiskit.algorithms.optimizers import SLSQP, COBYLA, L_BFGS_B, SPSA\n",
        "import itertools, functools\n",
        "from qiskit.opflow import I, X, Y, Z\n",
        "from jarvis.db.figshare import get_wann_electron, get_wann_phonon, get_hk_tb\n",
        "from jarvis.core.circuits import QuantumCircuitLibrary\n",
        "from qiskit_nature.algorithms.ground_state_solvers import GroundStateEigensolver"
      ]
    },
    {
      "cell_type": "code",
      "execution_count": null,
      "metadata": {
        "id": "F0GPdLMweXIk",
        "colab": {
          "base_uri": "https://localhost:8080/",
          "height": 1000
        },
        "outputId": "06460f9a-34ab-4399-b2a5-cdbfb7d4f12b"
      },
      "outputs": [
        {
          "output_type": "stream",
          "name": "stderr",
          "text": [
            "<ipython-input-18-9dde21c5ae03>:26: DeprecationWarning: The class ``qiskit.utils.quantum_instance.QuantumInstance`` is deprecated as of qiskit-terra 0.24.0. It will be removed no earlier than 3 months after the release date. For code migration guidelines, visit https://qisk.it/qi_migration.\n",
            "  qi = QuantumInstance(Aer.get_backend('statevector_simulator'), seed_transpiler=seed, seed_simulator=seed)\n",
            "<ipython-input-18-9dde21c5ae03>:29: DeprecationWarning: The class ``qiskit.algorithms.minimum_eigen_solvers.vqe.VQE`` is deprecated as of qiskit-terra 0.24.0. It will be removed no earlier than 3 months after the release date. Instead, use the class ``qiskit.algorithms.minimum_eigensolvers.VQE``. See https://qisk.it/algo_migration for a migration guide.\n",
            "  vqe = VQE(ansatz, optimizer=optimizer, quantum_instance=qi,callback=store_intermediate_result)\n",
            "<ipython-input-18-9dde21c5ae03>:38: NatureDeprecationWarning: The qiskit_nature.algorithms.ground_state_solvers.GroundStateEigensolver class is deprecated as of version 0.5.0 and will be removed no sooner than 3 months after the release. Instead use the qiskit_nature.second_q.algorithms.ground_state_solvers.GroundStateEigensolver class.\n",
            "  solver =GroundStateEigensolver(converter, vqe)\n"
          ]
        },
        {
          "output_type": "stream",
          "name": "stdout",
          "text": [
            "Result with SLSQP: === GROUND STATE ENERGY ===\n",
            " \n",
            "* Electronic ground state energy (Hartree): -238.842309565499\n",
            "  - computed part:      -1.677391037823\n",
            "  - ActiveSpaceTransformer extracted energy part: -237.164918527676\n",
            "~ Nuclear repulsion energy (Hartree): 0.0\n",
            "> Total ground state energy (Hartree): -238.842309565499\n",
            " \n",
            "=== MEASURED OBSERVABLES ===\n",
            " \n",
            "  0:  # Particles: 2.977 S: 0.491 S^2: 0.733 M: 0.488\n",
            " \n",
            "=== DIPOLE MOMENTS ===\n",
            " \n",
            "~ Nuclear dipole moment (a.u.): [0.0  0.0  0.0]\n",
            " \n",
            "  0: \n",
            "  * Electronic dipole moment (a.u.): [-0.00019095  0.00049896  -0.00039409]\n",
            "    - computed part:      [-0.00019095  0.00049896  -0.00039409]\n",
            "    - ActiveSpaceTransformer extracted energy part: [0.0  0.0  0.0]\n",
            "  > Dipole moment (a.u.): [0.00019095  -0.00049896  0.00039409]  Total: 0.00066388\n",
            "                 (debye): [0.00048535  -0.00126822  0.00100169]  Total: 0.00168741\n",
            " \n"
          ]
        },
        {
          "output_type": "stream",
          "name": "stderr",
          "text": [
            "<ipython-input-18-9dde21c5ae03>:26: DeprecationWarning: The class ``qiskit.utils.quantum_instance.QuantumInstance`` is deprecated as of qiskit-terra 0.24.0. It will be removed no earlier than 3 months after the release date. For code migration guidelines, visit https://qisk.it/qi_migration.\n",
            "  qi = QuantumInstance(Aer.get_backend('statevector_simulator'), seed_transpiler=seed, seed_simulator=seed)\n",
            "<ipython-input-18-9dde21c5ae03>:29: DeprecationWarning: The class ``qiskit.algorithms.minimum_eigen_solvers.vqe.VQE`` is deprecated as of qiskit-terra 0.24.0. It will be removed no earlier than 3 months after the release date. Instead, use the class ``qiskit.algorithms.minimum_eigensolvers.VQE``. See https://qisk.it/algo_migration for a migration guide.\n",
            "  vqe = VQE(ansatz, optimizer=optimizer, quantum_instance=qi,callback=store_intermediate_result)\n"
          ]
        },
        {
          "output_type": "stream",
          "name": "stdout",
          "text": [
            "Result with COBYLA: === GROUND STATE ENERGY ===\n",
            " \n",
            "* Electronic ground state energy (Hartree): -238.843693435314\n",
            "  - computed part:      -1.678774906503\n",
            "  - ActiveSpaceTransformer extracted energy part: -237.164918528811\n",
            "~ Nuclear repulsion energy (Hartree): 0.0\n",
            "> Total ground state energy (Hartree): -238.843693435314\n",
            " \n",
            "=== MEASURED OBSERVABLES ===\n",
            " \n",
            "  0:  # Particles: 2.023 S: 0.017 S^2: 0.017 M: -0.011\n",
            " \n",
            "=== DIPOLE MOMENTS ===\n",
            " \n",
            "~ Nuclear dipole moment (a.u.): [0.0  0.0  0.0]\n",
            " \n",
            "  0: \n",
            "  * Electronic dipole moment (a.u.): [0.00033899  0.00050222  -0.00064898]\n",
            "    - computed part:      [0.00033899  0.00050222  -0.00064898]\n",
            "    - ActiveSpaceTransformer extracted energy part: [0.0  0.0  0.0]\n",
            "  > Dipole moment (a.u.): [-0.00033899  -0.00050222  0.00064898]  Total: 0.00088787\n",
            "                 (debye): [-0.00086164  -0.00127652  0.00164953]  Total: 0.00225674\n",
            " \n"
          ]
        },
        {
          "output_type": "stream",
          "name": "stderr",
          "text": [
            "<ipython-input-18-9dde21c5ae03>:26: DeprecationWarning: The class ``qiskit.utils.quantum_instance.QuantumInstance`` is deprecated as of qiskit-terra 0.24.0. It will be removed no earlier than 3 months after the release date. For code migration guidelines, visit https://qisk.it/qi_migration.\n",
            "  qi = QuantumInstance(Aer.get_backend('statevector_simulator'), seed_transpiler=seed, seed_simulator=seed)\n",
            "<ipython-input-18-9dde21c5ae03>:29: DeprecationWarning: The class ``qiskit.algorithms.minimum_eigen_solvers.vqe.VQE`` is deprecated as of qiskit-terra 0.24.0. It will be removed no earlier than 3 months after the release date. Instead, use the class ``qiskit.algorithms.minimum_eigensolvers.VQE``. See https://qisk.it/algo_migration for a migration guide.\n",
            "  vqe = VQE(ansatz, optimizer=optimizer, quantum_instance=qi,callback=store_intermediate_result)\n"
          ]
        },
        {
          "output_type": "stream",
          "name": "stdout",
          "text": [
            "Result with L_BFGS_B: === GROUND STATE ENERGY ===\n",
            " \n",
            "* Electronic ground state energy (Hartree): -238.842285217754\n",
            "  - computed part:      -1.677366690238\n",
            "  - ActiveSpaceTransformer extracted energy part: -237.164918527516\n",
            "~ Nuclear repulsion energy (Hartree): 0.0\n",
            "> Total ground state energy (Hartree): -238.842285217754\n",
            " \n",
            "=== MEASURED OBSERVABLES ===\n",
            " \n",
            "  0:  # Particles: 3.000 S: 0.500 S^2: 0.750 M: 0.500\n",
            " \n",
            "=== DIPOLE MOMENTS ===\n",
            " \n",
            "~ Nuclear dipole moment (a.u.): [0.0  0.0  0.0]\n",
            " \n",
            "  0: \n",
            "  * Electronic dipole moment (a.u.): [-0.0000001  0.00000025  -0.00000022]\n",
            "    - computed part:      [-0.0000001  0.00000025  -0.00000022]\n",
            "    - ActiveSpaceTransformer extracted energy part: [0.0  0.0  0.0]\n",
            "  > Dipole moment (a.u.): [0.0000001  -0.00000025  0.00000022]  Total: 0.00000035\n",
            "                 (debye): [0.00000025  -0.00000064  0.00000057]  Total: 0.00000089\n",
            " \n"
          ]
        },
        {
          "output_type": "stream",
          "name": "stderr",
          "text": [
            "<ipython-input-18-9dde21c5ae03>:26: DeprecationWarning: The class ``qiskit.utils.quantum_instance.QuantumInstance`` is deprecated as of qiskit-terra 0.24.0. It will be removed no earlier than 3 months after the release date. For code migration guidelines, visit https://qisk.it/qi_migration.\n",
            "  qi = QuantumInstance(Aer.get_backend('statevector_simulator'), seed_transpiler=seed, seed_simulator=seed)\n",
            "<ipython-input-18-9dde21c5ae03>:29: DeprecationWarning: The class ``qiskit.algorithms.minimum_eigen_solvers.vqe.VQE`` is deprecated as of qiskit-terra 0.24.0. It will be removed no earlier than 3 months after the release date. Instead, use the class ``qiskit.algorithms.minimum_eigensolvers.VQE``. See https://qisk.it/algo_migration for a migration guide.\n",
            "  vqe = VQE(ansatz, optimizer=optimizer, quantum_instance=qi,callback=store_intermediate_result)\n"
          ]
        },
        {
          "output_type": "stream",
          "name": "stdout",
          "text": [
            "Result with SPSA: === GROUND STATE ENERGY ===\n",
            " \n",
            "* Electronic ground state energy (Hartree): -238.843471519545\n",
            "  - computed part:      -1.678552991893\n",
            "  - ActiveSpaceTransformer extracted energy part: -237.164918527652\n",
            "~ Nuclear repulsion energy (Hartree): 0.0\n",
            "> Total ground state energy (Hartree): -238.843471519545\n",
            " \n",
            "=== MEASURED OBSERVABLES ===\n",
            " \n",
            "  0:  # Particles: 2.183 S: 0.122 S^2: 0.137 M: -0.091\n",
            " \n",
            "=== DIPOLE MOMENTS ===\n",
            " \n",
            "~ Nuclear dipole moment (a.u.): [0.0  0.0  0.0]\n",
            " \n",
            "  0: \n",
            "  * Electronic dipole moment (a.u.): [-0.00018186  0.00079349  0.00048614]\n",
            "    - computed part:      [-0.00018186  0.00079349  0.00048614]\n",
            "    - ActiveSpaceTransformer extracted energy part: [0.0  0.0  0.0]\n",
            "  > Dipole moment (a.u.): [0.00018186  -0.00079349  -0.00048614]  Total: 0.00094817\n",
            "                 (debye): [0.00046224  -0.00201685  -0.00123565]  Total: 0.00241001\n",
            " \n"
          ]
        },
        {
          "output_type": "display_data",
          "data": {
            "text/plain": [
              "<Figure size 640x480 with 1 Axes>"
            ],
            "image/png": "[encoded data removed]"
          },
          "metadata": {}
        }
      ],
      "source": [
        "import matplotlib.pyplot as plt\n",
        "%matplotlib inline\n",
        "\n",
        "seed = 42\n",
        "counts = []\n",
        "values = []\n",
        "plt.clf()\n",
        "\n",
        "def store_intermediate_result(eval_count, parameters, mean, std):\n",
        "    counts.append(eval_count)\n",
        "    values.append(mean)\n",
        "\n",
        "optimizers = {\n",
        "    'SLSQP': SLSQP(maxiter=1000),\n",
        "    'COBYLA': COBYLA(maxiter=1000),\n",
        "    'L_BFGS_B': L_BFGS_B(maxfun=1000),\n",
        "    'SPSA': SPSA(maxiter=1000)\n",
        "}\n",
        "\n",
        "results = {}\n",
        "\n",
        "for opt_name, optimizer in optimizers.items():\n",
        "  algorithm_globals.random_seed = seed\n",
        "  counts = []\n",
        "  values = []\n",
        "  qi = QuantumInstance(Aer.get_backend('statevector_simulator'), seed_transpiler=seed, seed_simulator=seed)\n",
        "  n_qubits = qubit_op_jw.num_qubits\n",
        "  ansatz = QuantumCircuitLibrary(n_qubits=n_qubits, reps=1).circuit6()\n",
        "  vqe = VQE(ansatz, optimizer=optimizer, quantum_instance=qi,callback=store_intermediate_result)\n",
        "\n",
        "  result = vqe.compute_minimum_eigenvalue(operator=qubit_op_jw)\n",
        "  results[opt_name] = {'values':values, 'counts': counts}\n",
        "  plt.plot(counts,values,label=opt_name,)\n",
        "  eigenvalue = result.eigenvalue\n",
        "  #print(result)\n",
        "  #print(f'Eigenvalue with {opt_name}: {eigenvalue}')\n",
        "\n",
        "  solver =GroundStateEigensolver(converter, vqe)\n",
        "  result=solver.solve(problem_reduced)\n",
        "  print(f'Result with {opt_name}: {result}')\n",
        "plt.xlabel('Evaluation Counts')\n",
        "plt.ylabel('Energy')\n",
        "plt.title('Energy Convergence with Different Optimizers')\n",
        "plt.legend()\n",
        "plt.grid(True)\n",
        "plt.show()"
      ]
    },
    {
      "cell_type": "code",
      "execution_count": null,
      "metadata": {
        "colab": {
          "base_uri": "https://localhost:8080/"
        },
        "id": "IHLNd7w0gHzO",
        "outputId": "8f99895d-0165-4ffe-b9dd-d753165e5874"
      },
      "outputs": [
        {
          "output_type": "stream",
          "name": "stdout",
          "text": [
            "Job took 66.51 seconds to run.\n"
          ]
        }
      ],
      "source": [
        "# Record the end time\n",
        "end_time = time.time()\n",
        "\n",
        "# Calculate the duration\n",
        "duration = end_time - start_time\n",
        "\n",
        "# Print the duration\n",
        "print(\"Job took {:.2f} seconds to run.\".format(duration))"
      ]
    }
  ],
  "metadata": {
    "colab": {
      "provenance": [],
      "include_colab_link": true
    },
    "kernelspec": {
      "display_name": "Python 3",
      "name": "python3"
    },
    "language_info": {
      "name": "python"
    }
  },
  "nbformat": 4,
  "nbformat_minor": 0
}