{
  "nbformat": 4,
  "nbformat_minor": 0,
  "metadata": {
    "colab": {
      "provenance": [],
      "authorship_tag": "ABX9TyMCSjDwHl14lPYgDB6eoBWV",
      "include_colab_link": true
    },
    "kernelspec": {
      "name": "python3",
      "display_name": "Python 3"
    },
    "language_info": {
      "name": "python"
    }
  },
  "cells": [
    {
      "cell_type": "markdown",
      "metadata": {
        "id": "view-in-github",
        "colab_type": "text"
      },
      "source": [
        "<a href=\"https://colab.research.google.com/github/niapollard/TEST/blob/main/Figure%202_Cube%20File%20Generation.ipynb\" target=\"_parent\"><img src=\"https://colab.research.google.com/assets/colab-badge.svg\" alt=\"Open In Colab\"/></a>"
      ]
    },
    {
      "cell_type": "code",
      "execution_count": null,
      "metadata": {
        "colab": {
          "base_uri": "https://localhost:8080/"
        },
        "id": "ZKHh_v5qSXYW",
        "outputId": "2e32b04b-3a7a-4d1e-cabf-6783ec13d9dc"
      },
      "outputs": [
        {
          "output_type": "stream",
          "name": "stdout",
          "text": [
            "  Installing build dependencies ... \u001b[?25l\u001b[?25hdone\n",
            "  Getting requirements to build wheel ... \u001b[?25l\u001b[?25hdone\n",
            "  Preparing metadata (pyproject.toml) ... \u001b[?25l\u001b[?25hdone\n",
            "\u001b[2K   \u001b[90m━━━━━━━━━━━━━━━━━━━━━━━━━━━━━━━━━━━━━━━━\u001b[0m \u001b[32m12.8/12.8 MB\u001b[0m \u001b[31m8.6 MB/s\u001b[0m eta \u001b[36m0:00:00\u001b[0m\n",
            "\u001b[2K   \u001b[90m━━━━━━━━━━━━━━━━━━━━━━━━━━━━━━━━━━━━━━━━\u001b[0m \u001b[32m241.5/241.5 kB\u001b[0m \u001b[31m10.2 MB/s\u001b[0m eta \u001b[36m0:00:00\u001b[0m\n",
            "\u001b[2K   \u001b[90m━━━━━━━━━━━━━━━━━━━━━━━━━━━━━━━━━━━━━━━━\u001b[0m \u001b[32m5.9/5.9 MB\u001b[0m \u001b[31m10.5 MB/s\u001b[0m eta \u001b[36m0:00:00\u001b[0m\n",
            "\u001b[2K   \u001b[90m━━━━━━━━━━━━━━━━━━━━━━━━━━━━━━━━━━━━━━━━\u001b[0m \u001b[32m4.2/4.2 MB\u001b[0m \u001b[31m49.5 MB/s\u001b[0m eta \u001b[36m0:00:00\u001b[0m\n",
            "\u001b[2K   \u001b[90m━━━━━━━━━━━━━━━━━━━━━━━━━━━━━━━━━━━━━━━━\u001b[0m \u001b[32m17.1/17.1 MB\u001b[0m \u001b[31m44.2 MB/s\u001b[0m eta \u001b[36m0:00:00\u001b[0m\n",
            "\u001b[2K   \u001b[90m━━━━━━━━━━━━━━━━━━━━━━━━━━━━━━━━━━━━━━━━\u001b[0m \u001b[32m116.3/116.3 kB\u001b[0m \u001b[31m7.7 MB/s\u001b[0m eta \u001b[36m0:00:00\u001b[0m\n",
            "\u001b[2K   \u001b[90m━━━━━━━━━━━━━━━━━━━━━━━━━━━━━━━━━━━━━━━━\u001b[0m \u001b[32m49.6/49.6 kB\u001b[0m \u001b[31m2.3 MB/s\u001b[0m eta \u001b[36m0:00:00\u001b[0m\n",
            "\u001b[2K   \u001b[90m━━━━━━━━━━━━━━━━━━━━━━━━━━━━━━━━━━━━━━━━\u001b[0m \u001b[32m2.0/2.0 MB\u001b[0m \u001b[31m37.5 MB/s\u001b[0m eta \u001b[36m0:00:00\u001b[0m\n",
            "\u001b[2K   \u001b[90m━━━━━━━━━━━━━━━━━━━━━━━━━━━━━━━━━━━━━━━━\u001b[0m \u001b[32m49.7/49.7 kB\u001b[0m \u001b[31m2.4 MB/s\u001b[0m eta \u001b[36m0:00:00\u001b[0m\n",
            "\u001b[2K   \u001b[90m━━━━━━━━━━━━━━━━━━━━━━━━━━━━━━━━━━━━━━━━\u001b[0m \u001b[32m37.5/37.5 MB\u001b[0m \u001b[31m8.3 MB/s\u001b[0m eta \u001b[36m0:00:00\u001b[0m\n",
            "\u001b[2K   \u001b[90m━━━━━━━━━━━━━━━━━━━━━━━━━━━━━━━━━━━━━━━━\u001b[0m \u001b[32m157.3/157.3 kB\u001b[0m \u001b[31m4.8 MB/s\u001b[0m eta \u001b[36m0:00:00\u001b[0m\n",
            "\u001b[2K   \u001b[90m━━━━━━━━━━━━━━━━━━━━━━━━━━━━━━━━━━━━━━━━\u001b[0m \u001b[32m108.5/108.5 kB\u001b[0m \u001b[31m7.0 MB/s\u001b[0m eta \u001b[36m0:00:00\u001b[0m\n",
            "\u001b[?25h  Building wheel for qiskit (pyproject.toml) ... \u001b[?25l\u001b[?25hdone\n",
            "\u001b[31mERROR: pip's dependency resolver does not currently take into account all the packages that are installed. This behaviour is the source of the following dependency conflicts.\n",
            "albucore 0.0.13 requires numpy<2,>=1.24.4, but you have numpy 1.23.5 which is incompatible.\n",
            "albumentations 1.4.14 requires numpy>=1.24.4, but you have numpy 1.23.5 which is incompatible.\n",
            "chex 0.1.86 requires numpy>=1.24.1, but you have numpy 1.23.5 which is incompatible.\n",
            "pandas-stubs 2.1.4.231227 requires numpy>=1.26.0; python_version < \"3.13\", but you have numpy 1.23.5 which is incompatible.\u001b[0m\u001b[31m\n",
            "\u001b[0m"
          ]
        }
      ],
      "source": [
        "!pip install -q numpy==1.23.5 jarvis-tools qiskit==0.43.1 qiskit_nature==0.6.2 pyscf qiskit-aer==0.12.0"
      ]
    },
    {
      "cell_type": "code",
      "source": [
        "Restart the session to succesfully run cells"
      ],
      "metadata": {
        "id": "vMoihrw9UDDl"
      },
      "execution_count": null,
      "outputs": []
    },
    {
      "cell_type": "code",
      "source": [
        "import numpy as np\n",
        "\n",
        "# Importing Qiskit and Jarvis libraries\n",
        "from qiskit import QuantumCircuit, transpile, Aer, IBMQ\n",
        "from qiskit.tools.jupyter import *\n",
        "from qiskit.visualization import *\n",
        "from qiskit import Aer\n",
        "from qiskit_nature.drivers import UnitsType, Molecule\n",
        "from qiskit_nature.drivers.second_quantization import (\n",
        "    ElectronicStructureDriverType,\n",
        "    ElectronicStructureMoleculeDriver,\n",
        ")\n",
        "from qiskit_nature.problems.second_quantization import ElectronicStructureProblem\n",
        "from qiskit_nature.converters.second_quantization import QubitConverter\n",
        "from qiskit_nature.mappers.second_quantization import JordanWignerMapper\n",
        "from qiskit_nature.drivers.second_quantization import PySCFDriver\n",
        "from qiskit_nature.drivers.second_quantization import MethodType\n",
        "from qiskit.algorithms import NumPyMinimumEigensolver\n",
        "from qiskit_nature.transformers.second_quantization.electronic.active_space_transformer import ActiveSpaceTransformer\n",
        "from qiskit_nature.converters.second_quantization import QubitConverter\n",
        "from qiskit_nature.mappers.second_quantization import JordanWignerMapper, ParityMapper\n",
        "from qiskit.utils import QuantumInstance, algorithm_globals\n",
        "from qiskit.algorithms import VQE\n",
        "from qiskit.algorithms.optimizers import SLSQP, COBYLA, L_BFGS_B, SPSA\n",
        "import itertools, functools\n",
        "from qiskit.opflow import I, X, Y, Z\n",
        "from jarvis.db.figshare import get_wann_electron, get_wann_phonon, get_hk_tb\n",
        "from jarvis.core.circuits import QuantumCircuitLibrary\n",
        "from qiskit_nature.algorithms.ground_state_solvers import GroundStateEigensolver"
      ],
      "metadata": {
        "colab": {
          "base_uri": "https://localhost:8080/",
          "height": 108
        },
        "id": "ZJi3yMtVTDCI",
        "outputId": "737c82f3-75e8-4bd6-c150-48bc894ed144"
      },
      "execution_count": null,
      "outputs": [
        {
          "output_type": "stream",
          "name": "stderr",
          "text": [
            "<ipython-input-5-33a300786f10>:29: NatureDeprecationWarning: The qiskit_nature.algorithms.excited_state_solvers package is deprecated as of version 0.5.0 and will be removed no sooner than 3 months after the release. Instead use the qiskit_nature.second_q.algorithms.excited_state_solvers package.\n",
            "  from qiskit_nature.algorithms.ground_state_solvers import GroundStateEigensolver\n",
            "<ipython-input-5-33a300786f10>:29: NatureDeprecationWarning: The qiskit_nature.algorithms.pes_sampler package is deprecated as of version 0.5.0 and will be removed no sooner than 3 months after the release . Please refer to 'https://github.com/Qiskit/qiskit-nature/issues/750' for additional information regarding 'extrapolators'.\n",
            "  from qiskit_nature.algorithms.ground_state_solvers import GroundStateEigensolver\n"
          ]
        }
      ]
    },
    {
      "cell_type": "code",
      "source": [
        "molecule = Molecule(\n",
        "    geometry=[['Al',[0.00000000, 0.00000000, 0.00000000]]],\n",
        "    charge=-1,\n",
        "    multiplicity=1)"
      ],
      "metadata": {
        "id": "I7tFEmb0TGZD"
      },
      "execution_count": null,
      "outputs": []
    },
    {
      "cell_type": "code",
      "source": [
        "from pyscf import gto, scf, mcscf, tools\n",
        "import os"
      ],
      "metadata": {
        "id": "qE-oAlnGQv1S"
      },
      "execution_count": null,
      "outputs": []
    },
    {
      "cell_type": "code",
      "source": [
        "from google.colab import drive\n",
        "drive.mount('/content/drive')\n"
      ],
      "metadata": {
        "colab": {
          "base_uri": "https://localhost:8080/"
        },
        "id": "vEoTXZqFn6iI",
        "outputId": "480f2c2e-d882-4319-a745-fd6bce97cb22"
      },
      "execution_count": null,
      "outputs": [
        {
          "output_type": "stream",
          "name": "stdout",
          "text": [
            "Mounted at /content/drive\n"
          ]
        }
      ]
    },
    {
      "cell_type": "code",
      "source": [
        "def get_qubit_op(\n",
        "    molecule,\n",
        "    basis='sto3g',\n",
        "    functional='lda',\n",
        "    method= MethodType.RKS,\n",
        "    driver_type= ElectronicStructureDriverType.PYSCF,\n",
        "    converter= JordanWignerMapper()):\n",
        "\n",
        "  driver=ElectronicStructureMoleculeDriver(molecule, basis, method,driver_type)\n",
        "  properties = driver.run()\n",
        "  problem = ElectronicStructureProblem(driver)\n",
        "\n",
        "  second_q_ops = problem.second_q_ops()\n",
        "  second_q_ops = list(second_q_ops.values()) #list of second quantized operators\n",
        "  hamiltonian=second_q_ops[0]\n",
        "\n",
        "  numpy_solver = NumPyMinimumEigensolver()\n",
        "  tmp = properties.get_property('ParticleNumber')\n",
        "  alpha_occ=tmp.occupation_alpha\n",
        "  beta_occ=tmp.occupation_beta\n",
        "\n",
        "  mo_considered=3\n",
        "  #active and inactive space has to be even, non-magnetic\n",
        "\n",
        "  first_index = min(np.where(alpha_occ<1)[0][0],np.where(beta_occ<1)[0][0])\n",
        "\n",
        "  orb_act = np.arange(first_index-mo_considered,first_index)+1\n",
        "\n",
        "  transformer= ActiveSpaceTransformer(num_electrons=mo_considered+1, num_molecular_orbitals=len(orb_act), active_orbitals=orb_act)\n",
        "  problem_reduced = ElectronicStructureProblem(driver, [transformer])\n",
        "  second_q_ops_reduced = problem_reduced.second_q_ops()\n",
        "\n",
        "  second_q_ops_reduced = list(second_q_ops_reduced.values())\n",
        "  hamiltonian_reduced = second_q_ops_reduced[0]\n",
        "  mapper = JordanWignerMapper()\n",
        "  converter = QubitConverter(mapper=mapper)\n",
        "  qubit_op = converter.convert(hamiltonian_reduced)\n",
        "\n",
        "  res1={}\n",
        "  res1['qubit_op']=qubit_op\n",
        "  res1['converter']=converter\n",
        "  res1['problem_reduced']=problem_reduced\n",
        "  res1['molecule_driver']=driver\n",
        "  return res1 #qubit_op, converter, problem_reduced\n",
        "\n",
        "def get_energy(optimizer='',device='',qubit_op='',seed=''):\n",
        "  seed = 42\n",
        "  counts = []\n",
        "  values = []\n",
        "\n",
        "\n",
        "  def store_intermediate_result(eval_count, parameters, mean, std):\n",
        "    counts.append(eval_count)\n",
        "    values.append(mean)\n",
        "\n",
        "  algorithm_globals.random_seed = seed\n",
        "  print('device',device)\n",
        "  print('seed',seed)\n",
        "\n",
        "  qi = QuantumInstance(device, seed_transpiler=seed, seed_simulator=seed)\n",
        "  n_qubits = qubit_op.num_qubits\n",
        "  ansatz = QuantumCircuitLibrary(n_qubits=n_qubits, reps=1).circuit6()\n",
        "  vqe = VQE(ansatz, optimizer=optimizer, quantum_instance=qi,callback=store_intermediate_result)\n",
        "  result = vqe.compute_minimum_eigenvalue(operator=qubit_op)\n",
        "\n",
        "\n",
        "  eigenvalue = result.eigenvalue\n",
        "  # return eigenvalue, vqe, qi\n",
        "\n",
        "  res={}\n",
        "  res['eigenvalue']=eigenvalue\n",
        "  res['vqe']=vqe\n",
        "  res['qi']=qi\n",
        "  return res\n",
        "\n",
        "def generate_cube_files(molecule_driver, problem_reduced, vqe_result, save_path):\n",
        "  molecule = molecule_driver.run().molecule\n",
        "  mol = gto.M(atom=molecule.geometry, basis=molecule_driver.basis, charge=-1)\n",
        "  mf = scf.RKS(mol)\n",
        "  mf.kernel()\n",
        "\n",
        "  mo_coeff = mf.mo_coeff\n",
        "  occ = mf.mo_occ\n",
        "\n",
        "  # HOMO and LUMO indices\n",
        "  homo_idx = np.where(occ > 0)[0][-1]\n",
        "  lumo_idx = homo_idx + 1\n",
        "\n",
        "\n",
        "  # Ensure save path exists\n",
        "  if not os.path.exists(save_path):\n",
        "      os.makedirs(save_path)\n",
        "\n",
        "  # Generate cube files\n",
        "  tools.cubegen.orbital(mol, os.path.join(save_path, 'HOMO.cube'), mo_coeff[:, homo_idx])\n",
        "  tools.cubegen.orbital(mol, os.path.join(save_path, 'LUMO.cube'), mo_coeff[:, lumo_idx])\n",
        "  print(f\"HOMO and LUMO cube files saved in {save_path}\")\n",
        "\n",
        "elements=['Al']\n",
        "basis=['sto3g']\n",
        "method=[MethodType.RKS]\n",
        "#driver_type=[]\n",
        "optimizer=[SLSQP(maxiter=1000)]\n",
        "converter=[JordanWignerMapper()]\n",
        "functionals=['lda']\n",
        "devices=[Aer.get_backend('statevector_simulator')]\n",
        "mem={}\n",
        "\n",
        "save_path = '/content/drive/My Drive/CubeFiles'\n",
        "\n",
        "for i in elements:\n",
        "  for j in basis:\n",
        "    for k in method:\n",
        "      #for l in driver_type:\n",
        "        for m in optimizer:\n",
        "          for n in converter:\n",
        "            for o in functionals:\n",
        "              for p in devices:\n",
        "                 print(i,j,k,m,n,o,p)\n",
        "\n",
        "                 res1=get_qubit_op(molecule=molecule,basis=j,functional=o,method=k,converter=n)\n",
        "                 converter=res1['converter']\n",
        "\n",
        "                 res=get_energy(optimizer=m,device=p,qubit_op=res1['qubit_op'],seed=42)\n",
        "                 print(res['eigenvalue'])\n",
        "\n",
        "                 #GroundStateEigensolver\n",
        "                 solver =GroundStateEigensolver(res1['converter'], res['vqe'])\n",
        "                 result=solver.solve(res1['problem_reduced'])\n",
        "                 print(result)\n",
        "\n",
        "                 generate_cube_files(res1['molecule_driver'], res1['problem_reduced'], res['vqe'], save_path)\n",
        "\n",
        "                 mem[i,j,k,m,n,o,p]= {\n",
        "                     'eigenvalue': res['eigenvalue'],\n",
        "                     'vqe': res['vqe'],\n",
        "                     'qi': res['qi'],\n",
        "                     'converter': res1['converter'],\n",
        "                     'problem_reduced': res1['problem_reduced']\n",
        "                    }\n",
        "\n",
        "#print(mem)"
      ],
      "metadata": {
        "colab": {
          "base_uri": "https://localhost:8080/"
        },
        "id": "yO6QUUV2jlPj",
        "outputId": "7c896694-eb06-42be-a6df-28c935bc1eba"
      },
      "execution_count": null,
      "outputs": [
        {
          "output_type": "stream",
          "name": "stdout",
          "text": [
            "Al sto3g MethodType.RKS <qiskit.algorithms.optimizers.slsqp.SLSQP object at 0x7b3af29acc10> <qiskit_nature.mappers.second_quantization.jordan_wigner_mapper.JordanWignerMapper object at 0x7b3af29afc40> lda statevector_simulator\n"
          ]
        },
        {
          "output_type": "stream",
          "name": "stderr",
          "text": [
            "<ipython-input-18-30a6474d782d>:17: DeprecationWarning: The class ``qiskit.algorithms.minimum_eigen_solvers.numpy_minimum_eigen_solver.NumPyMinimumEigensolver`` is deprecated as of qiskit-terra 0.24.0. It will be removed no earlier than 3 months after the release date. Instead, use the class ``qiskit.algorithms.minimum_eigensolvers.NumPyMinimumEigensolver``. See https://qisk.it/algo_migration for a migration guide.\n",
            "  numpy_solver = NumPyMinimumEigensolver()\n"
          ]
        },
        {
          "output_type": "stream",
          "name": "stdout",
          "text": [
            "device statevector_simulator\n",
            "seed 42\n"
          ]
        },
        {
          "output_type": "stream",
          "name": "stderr",
          "text": [
            "<ipython-input-18-30a6474d782d>:60: DeprecationWarning: The class ``qiskit.utils.quantum_instance.QuantumInstance`` is deprecated as of qiskit-terra 0.24.0. It will be removed no earlier than 3 months after the release date. For code migration guidelines, visit https://qisk.it/qi_migration.\n",
            "  qi = QuantumInstance(device, seed_transpiler=seed, seed_simulator=seed)\n",
            "<ipython-input-18-30a6474d782d>:63: DeprecationWarning: The class ``qiskit.algorithms.minimum_eigen_solvers.vqe.VQE`` is deprecated as of qiskit-terra 0.24.0. It will be removed no earlier than 3 months after the release date. Instead, use the class ``qiskit.algorithms.minimum_eigensolvers.VQE``. See https://qisk.it/algo_migration for a migration guide.\n",
            "  vqe = VQE(ansatz, optimizer=optimizer, quantum_instance=qi,callback=store_intermediate_result)\n"
          ]
        },
        {
          "output_type": "stream",
          "name": "stdout",
          "text": [
            "(8.5066017987e-08+0j)\n",
            "=== GROUND STATE ENERGY ===\n",
            " \n",
            "* Electronic ground state energy (Hartree): -238.842309572364\n",
            "  - computed part:      -1.677391051219\n",
            "  - ActiveSpaceTransformer extracted energy part: -237.164918521145\n",
            "~ Nuclear repulsion energy (Hartree): 0.0\n",
            "> Total ground state energy (Hartree): -238.842309572364\n",
            " \n",
            "=== MEASURED OBSERVABLES ===\n",
            " \n",
            "  0:  # Particles: 2.977 S: 0.491 S^2: 0.733 M: 0.488\n",
            " \n",
            "=== DIPOLE MOMENTS ===\n",
            " \n",
            "~ Nuclear dipole moment (a.u.): [0.0  0.0  0.0]\n",
            " \n",
            "  0: \n",
            "  * Electronic dipole moment (a.u.): [-0.00028618  -0.00012825  0.00058503]\n",
            "    - computed part:      [-0.00028618  -0.00012825  0.00058503]\n",
            "    - ActiveSpaceTransformer extracted energy part: [0.0  0.0  0.0]\n",
            "  > Dipole moment (a.u.): [0.00028618  0.00012825  -0.00058503]  Total: 0.00066378\n",
            "                 (debye): [0.0007274  0.00032597  -0.00148699]  Total: 0.00168716\n",
            " \n",
            "SCF not converged.\n",
            "SCF energy = -237.802298861115\n",
            "HOMO and LUMO cube files saved in /content/drive/My Drive/CubeFiles\n"
          ]
        }
      ]
    },
    {
      "cell_type": "code",
      "source": [
        "from google.colab import files\n",
        "files.download('/content/drive/My Drive/CubeFiles/HOMO.cube')\n",
        "files.download('/content/drive/My Drive/CubeFiles/LUMO.cube')"
      ],
      "metadata": {
        "colab": {
          "base_uri": "https://localhost:8080/",
          "height": 17
        },
        "id": "ViIXQDFKnrcS",
        "outputId": "e15625d7-d6ee-4ab5-a9d9-230fa346a08b"
      },
      "execution_count": null,
      "outputs": [
        {
          "output_type": "display_data",
          "data": {
            "text/plain": [
              "<IPython.core.display.Javascript object>"
            ],
            "application/javascript": [
              "\n",
              "    async function download(id, filename, size) {\n",
              "      if (!google.colab.kernel.accessAllowed) {\n",
              "        return;\n",
              "      }\n",
              "      const div = document.createElement('div');\n",
              "      const label = document.createElement('label');\n",
              "      label.textContent = `Downloading \"${filename}\": `;\n",
              "      div.appendChild(label);\n",
              "      const progress = document.createElement('progress');\n",
              "      progress.max = size;\n",
              "      div.appendChild(progress);\n",
              "      document.body.appendChild(div);\n",
              "\n",
              "      const buffers = [];\n",
              "      let downloaded = 0;\n",
              "\n",
              "      const channel = await google.colab.kernel.comms.open(id);\n",
              "      // Send a message to notify the kernel that we're ready.\n",
              "      channel.send({})\n",
              "\n",
              "      for await (const message of channel.messages) {\n",
              "        // Send a message to notify the kernel that we're ready.\n",
              "        channel.send({})\n",
              "        if (message.buffers) {\n",
              "          for (const buffer of message.buffers) {\n",
              "            buffers.push(buffer);\n",
              "            downloaded += buffer.byteLength;\n",
              "            progress.value = downloaded;\n",
              "          }\n",
              "        }\n",
              "      }\n",
              "      const blob = new Blob(buffers, {type: 'application/binary'});\n",
              "      const a = document.createElement('a');\n",
              "      a.href = window.URL.createObjectURL(blob);\n",
              "      a.download = filename;\n",
              "      div.appendChild(a);\n",
              "      a.click();\n",
              "      div.remove();\n",
              "    }\n",
              "  "
            ]
          },
          "metadata": {}
        },
        {
          "output_type": "display_data",
          "data": {
            "text/plain": [
              "<IPython.core.display.Javascript object>"
            ],
            "application/javascript": [
              "download(\"download_9f19450a-20d5-40df-93d8-a6590d5fdf5f\", \"HOMO.cube\", 6745914)"
            ]
          },
          "metadata": {}
        },
        {
          "output_type": "display_data",
          "data": {
            "text/plain": [
              "<IPython.core.display.Javascript object>"
            ],
            "application/javascript": [
              "\n",
              "    async function download(id, filename, size) {\n",
              "      if (!google.colab.kernel.accessAllowed) {\n",
              "        return;\n",
              "      }\n",
              "      const div = document.createElement('div');\n",
              "      const label = document.createElement('label');\n",
              "      label.textContent = `Downloading \"${filename}\": `;\n",
              "      div.appendChild(label);\n",
              "      const progress = document.createElement('progress');\n",
              "      progress.max = size;\n",
              "      div.appendChild(progress);\n",
              "      document.body.appendChild(div);\n",
              "\n",
              "      const buffers = [];\n",
              "      let downloaded = 0;\n",
              "\n",
              "      const channel = await google.colab.kernel.comms.open(id);\n",
              "      // Send a message to notify the kernel that we're ready.\n",
              "      channel.send({})\n",
              "\n",
              "      for await (const message of channel.messages) {\n",
              "        // Send a message to notify the kernel that we're ready.\n",
              "        channel.send({})\n",
              "        if (message.buffers) {\n",
              "          for (const buffer of message.buffers) {\n",
              "            buffers.push(buffer);\n",
              "            downloaded += buffer.byteLength;\n",
              "            progress.value = downloaded;\n",
              "          }\n",
              "        }\n",
              "      }\n",
              "      const blob = new Blob(buffers, {type: 'application/binary'});\n",
              "      const a = document.createElement('a');\n",
              "      a.href = window.URL.createObjectURL(blob);\n",
              "      a.download = filename;\n",
              "      div.appendChild(a);\n",
              "      a.click();\n",
              "      div.remove();\n",
              "    }\n",
              "  "
            ]
          },
          "metadata": {}
        },
        {
          "output_type": "display_data",
          "data": {
            "text/plain": [
              "<IPython.core.display.Javascript object>"
            ],
            "application/javascript": [
              "download(\"download_303aafd5-0d02-471d-950a-dafb20c5f313\", \"LUMO.cube\", 6745914)"
            ]
          },
          "metadata": {}
        }
      ]
    }
  ]
}