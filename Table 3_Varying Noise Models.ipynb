{
  "nbformat": 4,
  "nbformat_minor": 0,
  "metadata": {
    "colab": {
      "provenance": [],
      "authorship_tag": "ABX9TyNwNL3iKrz4Ulg2rKspI7CT",
      "include_colab_link": true
    },
    "kernelspec": {
      "name": "python3",
      "display_name": "Python 3"
    },
    "language_info": {
      "name": "python"
    }
  },
  "cells": [
    {
      "cell_type": "markdown",
      "metadata": {
        "id": "view-in-github",
        "colab_type": "text"
      },
      "source": [
        "<a href=\"https://colab.research.google.com/github/niapollard/TEST/blob/main/Table%203_Varying%20Noise%20Models.ipynb\" target=\"_parent\"><img src=\"https://colab.research.google.com/assets/colab-badge.svg\" alt=\"Open In Colab\"/></a>"
      ]
    },
    {
      "cell_type": "code",
      "execution_count": null,
      "metadata": {
        "id": "ZKHh_v5qSXYW",
        "outputId": "292e1a89-6724-482d-d888-b170219c5253",
        "colab": {
          "base_uri": "https://localhost:8080/"
        }
      },
      "outputs": [
        {
          "output_type": "stream",
          "name": "stdout",
          "text": [
            "  Installing build dependencies ... \u001b[?25l\u001b[?25hdone\n",
            "  Getting requirements to build wheel ... \u001b[?25l\u001b[?25hdone\n",
            "  Preparing metadata (pyproject.toml) ... \u001b[?25l\u001b[?25hdone\n",
            "\u001b[2K   \u001b[90m━━━━━━━━━━━━━━━━━━━━━━━━━━━━━━━━━━━━━━━━\u001b[0m \u001b[32m12.8/12.8 MB\u001b[0m \u001b[31m55.4 MB/s\u001b[0m eta \u001b[36m0:00:00\u001b[0m\n",
            "\u001b[2K   \u001b[90m━━━━━━━━━━━━━━━━━━━━━━━━━━━━━━━━━━━━━━━━\u001b[0m \u001b[32m241.5/241.5 kB\u001b[0m \u001b[31m13.2 MB/s\u001b[0m eta \u001b[36m0:00:00\u001b[0m\n",
            "\u001b[2K   \u001b[90m━━━━━━━━━━━━━━━━━━━━━━━━━━━━━━━━━━━━━━━━\u001b[0m \u001b[32m5.9/5.9 MB\u001b[0m \u001b[31m55.7 MB/s\u001b[0m eta \u001b[36m0:00:00\u001b[0m\n",
            "\u001b[2K   \u001b[90m━━━━━━━━━━━━━━━━━━━━━━━━━━━━━━━━━━━━━━━━\u001b[0m \u001b[32m4.2/4.2 MB\u001b[0m \u001b[31m49.1 MB/s\u001b[0m eta \u001b[36m0:00:00\u001b[0m\n",
            "\u001b[2K   \u001b[90m━━━━━━━━━━━━━━━━━━━━━━━━━━━━━━━━━━━━━━━━\u001b[0m \u001b[32m17.1/17.1 MB\u001b[0m \u001b[31m54.7 MB/s\u001b[0m eta \u001b[36m0:00:00\u001b[0m\n",
            "\u001b[2K   \u001b[90m━━━━━━━━━━━━━━━━━━━━━━━━━━━━━━━━━━━━━━━━\u001b[0m \u001b[32m119.4/119.4 kB\u001b[0m \u001b[31m7.5 MB/s\u001b[0m eta \u001b[36m0:00:00\u001b[0m\n",
            "\u001b[2K   \u001b[90m━━━━━━━━━━━━━━━━━━━━━━━━━━━━━━━━━━━━━━━━\u001b[0m \u001b[32m2.0/2.0 MB\u001b[0m \u001b[31m44.4 MB/s\u001b[0m eta \u001b[36m0:00:00\u001b[0m\n",
            "\u001b[2K   \u001b[90m━━━━━━━━━━━━━━━━━━━━━━━━━━━━━━━━━━━━━━━━\u001b[0m \u001b[32m49.5/49.5 kB\u001b[0m \u001b[31m2.7 MB/s\u001b[0m eta \u001b[36m0:00:00\u001b[0m\n",
            "\u001b[2K   \u001b[90m━━━━━━━━━━━━━━━━━━━━━━━━━━━━━━━━━━━━━━━━\u001b[0m \u001b[32m37.5/37.5 MB\u001b[0m \u001b[31m12.1 MB/s\u001b[0m eta \u001b[36m0:00:00\u001b[0m\n",
            "\u001b[2K   \u001b[90m━━━━━━━━━━━━━━━━━━━━━━━━━━━━━━━━━━━━━━━━\u001b[0m \u001b[32m168.2/168.2 kB\u001b[0m \u001b[31m9.2 MB/s\u001b[0m eta \u001b[36m0:00:00\u001b[0m\n",
            "\u001b[2K   \u001b[90m━━━━━━━━━━━━━━━━━━━━━━━━━━━━━━━━━━━━━━━━\u001b[0m \u001b[32m108.5/108.5 kB\u001b[0m \u001b[31m6.6 MB/s\u001b[0m eta \u001b[36m0:00:00\u001b[0m\n",
            "\u001b[?25h  Building wheel for qiskit (pyproject.toml) ... \u001b[?25l\u001b[?25hdone\n",
            "\u001b[31mERROR: pip's dependency resolver does not currently take into account all the packages that are installed. This behaviour is the source of the following dependency conflicts.\n",
            "albucore 0.0.19 requires numpy>=1.24.4, but you have numpy 1.23.5 which is incompatible.\n",
            "albumentations 1.4.20 requires numpy>=1.24.4, but you have numpy 1.23.5 which is incompatible.\n",
            "bigframes 1.27.0 requires numpy>=1.24.0, but you have numpy 1.23.5 which is incompatible.\n",
            "chex 0.1.87 requires numpy>=1.24.1, but you have numpy 1.23.5 which is incompatible.\n",
            "jax 0.4.33 requires numpy>=1.24, but you have numpy 1.23.5 which is incompatible.\n",
            "jaxlib 0.4.33 requires numpy>=1.24, but you have numpy 1.23.5 which is incompatible.\n",
            "xarray 2024.10.0 requires numpy>=1.24, but you have numpy 1.23.5 which is incompatible.\u001b[0m\u001b[31m\n",
            "\u001b[0m"
          ]
        }
      ],
      "source": [
        "!pip install -q numpy==1.23.5 jarvis-tools qiskit==0.43.1 qiskit_nature==0.6.2 pyscf qiskit-aer==0.12.0"
      ]
    },
    {
      "cell_type": "markdown",
      "source": [
        "Restart the session to succesfully run cells"
      ],
      "metadata": {
        "id": "hms8_TvZsiYP"
      }
    },
    {
      "cell_type": "code",
      "source": [
        "import numpy as np\n",
        "\n",
        "# Importing Qiskit and Jarvis libraries\n",
        "from qiskit import QuantumCircuit, transpile, Aer, IBMQ\n",
        "from qiskit.tools.jupyter import *\n",
        "from qiskit.visualization import *\n",
        "from qiskit import Aer\n",
        "from qiskit_nature.drivers import UnitsType, Molecule\n",
        "from qiskit_nature.drivers.second_quantization import (\n",
        "    ElectronicStructureDriverType,\n",
        "    ElectronicStructureMoleculeDriver,\n",
        ")\n",
        "from qiskit_nature.problems.second_quantization import ElectronicStructureProblem\n",
        "from qiskit_nature.converters.second_quantization import QubitConverter\n",
        "from qiskit_nature.mappers.second_quantization import JordanWignerMapper\n",
        "from qiskit_nature.drivers.second_quantization import PySCFDriver\n",
        "from qiskit_nature.drivers.second_quantization import MethodType\n",
        "from qiskit.algorithms import NumPyMinimumEigensolver\n",
        "from qiskit_nature.transformers.second_quantization.electronic.active_space_transformer import ActiveSpaceTransformer\n",
        "from qiskit_nature.converters.second_quantization import QubitConverter\n",
        "from qiskit_nature.mappers.second_quantization import JordanWignerMapper, ParityMapper\n",
        "from qiskit.utils import QuantumInstance, algorithm_globals\n",
        "from qiskit.algorithms import VQE\n",
        "from qiskit.algorithms.optimizers import SLSQP\n",
        "import itertools, functools\n",
        "from qiskit.opflow import I, X, Y, Z\n",
        "from jarvis.db.figshare import get_wann_electron, get_wann_phonon, get_hk_tb\n",
        "from jarvis.core.circuits import QuantumCircuitLibrary\n",
        "from qiskit_nature.algorithms.ground_state_solvers import GroundStateEigensolver\n",
        "from pyscf import gto, scf, tools"
      ],
      "metadata": {
        "id": "ZJi3yMtVTDCI",
        "outputId": "c84f03b2-065a-46ac-d30c-0ebd2a2e8121",
        "colab": {
          "base_uri": "https://localhost:8080/",
          "height": 105
        }
      },
      "execution_count": null,
      "outputs": [
        {
          "output_type": "stream",
          "name": "stderr",
          "text": [
            "<ipython-input-5-ccff2813ef8f>:29: NatureDeprecationWarning: The qiskit_nature.algorithms.excited_state_solvers package is deprecated as of version 0.5.0 and will be removed no sooner than 3 months after the release. Instead use the qiskit_nature.second_q.algorithms.excited_state_solvers package.\n",
            "  from qiskit_nature.algorithms.ground_state_solvers import GroundStateEigensolver\n",
            "<ipython-input-5-ccff2813ef8f>:29: NatureDeprecationWarning: The qiskit_nature.algorithms.pes_sampler package is deprecated as of version 0.5.0 and will be removed no sooner than 3 months after the release . Please refer to 'https://github.com/Qiskit/qiskit-nature/issues/750' for additional information regarding 'extrapolators'.\n",
            "  from qiskit_nature.algorithms.ground_state_solvers import GroundStateEigensolver\n"
          ]
        }
      ]
    },
    {
      "cell_type": "code",
      "source": [
        "from qiskit_aer.noise import NoiseModel\n",
        "from qiskit.providers.fake_provider import FakeSherbrooke, FakeManhattan, FakeTokyo, FakeToronto, FakeMontreal"
      ],
      "metadata": {
        "id": "NxZHZ3mIp0e9"
      },
      "execution_count": null,
      "outputs": []
    },
    {
      "cell_type": "code",
      "source": [
        "# # fake providers contain data from real IBM Quantum devices stored in Qiskit,\n",
        "# # and are useful for extracting realistic noise models.\n",
        "# device = FakeSherbrooke()\n",
        "\n",
        "# coupling_map = device.coupling_map\n",
        "# noise_model = NoiseModel.from_backend(device)\n",
        "\n",
        "# print(noise_model)"
      ],
      "metadata": {
        "id": "NdJ7tKrcwkKP"
      },
      "execution_count": null,
      "outputs": []
    },
    {
      "cell_type": "code",
      "source": [
        "#Build the molecule\n",
        "molecule = Molecule(\n",
        "    geometry=[['Al',[14.46097199, -11.1250000, 0.00000000]],\n",
        "              ['Al',[17.61662800, -11.1250000, 0.00000000]]],\n",
        "    charge=0,\n",
        "    multiplicity=1)"
      ],
      "metadata": {
        "id": "I7tFEmb0TGZD"
      },
      "execution_count": null,
      "outputs": []
    },
    {
      "cell_type": "code",
      "source": [
        "fake_devices = [FakeSherbrooke(),FakeManhattan(),FakeToronto(),FakeTokyo(),FakeMontreal()]\n",
        "\n",
        "def get_qubit_op(\n",
        "    molecule,\n",
        "    basis='sto3g',\n",
        "    functional='lda',\n",
        "    method= MethodType.RKS,\n",
        "    driver_type= ElectronicStructureDriverType.PYSCF,\n",
        "    converter= JordanWignerMapper()):\n",
        "\n",
        "  driver=ElectronicStructureMoleculeDriver(molecule, basis, method,driver_type)\n",
        "  properties = driver.run()\n",
        "  problem = ElectronicStructureProblem(driver)\n",
        "\n",
        "  second_q_ops = problem.second_q_ops()\n",
        "  second_q_ops = list(second_q_ops.values()) #list of second quantized operators\n",
        "  hamiltonian=second_q_ops[0]\n",
        "\n",
        "  numpy_solver = NumPyMinimumEigensolver()\n",
        "  tmp = properties.get_property('ParticleNumber')\n",
        "  alpha_occ=tmp.occupation_alpha\n",
        "  beta_occ=tmp.occupation_beta\n",
        "\n",
        "  mo_considered=3\n",
        "  #active and inactive space has to be even, non-magnetic\n",
        "\n",
        "  first_index = min(np.where(alpha_occ<1)[0][0],np.where(beta_occ<1)[0][0])\n",
        "\n",
        "  orb_act = np.arange(first_index-mo_considered,first_index)+1\n",
        "\n",
        "  transformer= ActiveSpaceTransformer(num_electrons=mo_considered+1, num_molecular_orbitals=len(orb_act), active_orbitals=orb_act)\n",
        "  problem_reduced = ElectronicStructureProblem(driver, [transformer])\n",
        "  second_q_ops_reduced = problem_reduced.second_q_ops()\n",
        "\n",
        "  second_q_ops_reduced = list(second_q_ops_reduced.values())\n",
        "  hamiltonian_reduced = second_q_ops_reduced[0]\n",
        "  mapper = JordanWignerMapper()\n",
        "  converter = QubitConverter(mapper=mapper)\n",
        "  qubit_op = converter.convert(hamiltonian_reduced)\n",
        "\n",
        "  res1={}\n",
        "  res1['qubit_op']=qubit_op\n",
        "  res1['converter']=converter\n",
        "  res1['problem_reduced']=problem_reduced\n",
        "  res1['numpy_solver']=numpy_solver\n",
        "  return res1 #qubit_op, converter, problem_reduced\n",
        "\n",
        "def get_energy(optimizer='',backend='',qubit_op='',seed='', reps=1, noise_model='', coupling_map=''):\n",
        "  seed = 42\n",
        "  counts = []\n",
        "  values = []\n",
        "\n",
        "\n",
        "  def store_intermediate_result(eval_count, parameters, mean, std):\n",
        "    counts.append(eval_count)\n",
        "    values.append(mean)\n",
        "\n",
        "  algorithm_globals.random_seed = seed\n",
        "  print('backend',backend)\n",
        "  print('seed',seed)\n",
        "\n",
        "  qi = QuantumInstance(backend, noise_model=noise_model, coupling_map=coupling_map, seed_transpiler=seed, seed_simulator=seed)\n",
        "  n_qubits = qubit_op.num_qubits\n",
        "  ansatz = QuantumCircuitLibrary(n_qubits=n_qubits, reps=reps).circuit6()\n",
        "  vqe = VQE(ansatz, optimizer=optimizer, quantum_instance=qi,callback=store_intermediate_result)\n",
        "  result = vqe.compute_minimum_eigenvalue(operator=qubit_op)\n",
        "\n",
        "\n",
        "  eigenvalue = result.eigenvalue\n",
        "  # return eigenvalue, vqe, qi\n",
        "\n",
        "  res={}\n",
        "  res['eigenvalue']=eigenvalue\n",
        "  res['vqe']=vqe\n",
        "  res['qi']=qi\n",
        "  return res\n",
        "\n",
        "elements=['Al']\n",
        "basis=['sto3g']\n",
        "method=[MethodType.RKS]\n",
        "optimizer=[SLSQP(maxiter=1000)]\n",
        "functionals=['lda']\n",
        "backend=[Aer.get_backend('qasm_simulator')]\n",
        "reps_list = [1]\n",
        "mem={}\n",
        "for i in elements:\n",
        "  for j in basis:\n",
        "    for k in method:\n",
        "      #for l in driver_type:\n",
        "        for m in optimizer:\n",
        "          #for n in converter:\n",
        "            for o in functionals:\n",
        "              for p in backend:\n",
        "                for reps in reps_list:\n",
        "                  for device in fake_devices:\n",
        "                   print(i,j,k,m,o,p,reps,device)\n",
        "\n",
        "                   noise_model = NoiseModel.from_backend(device)\n",
        "\n",
        "                   try:\n",
        "                      coupling_map = device.configuration().coupling_map\n",
        "                   except AttributeError:\n",
        "                      if hasattr(device, \"coupling_map\"):\n",
        "                          coupling_map = device.coupling_map  # Directly retrieve\n",
        "\n",
        "                   res1=get_qubit_op(molecule=molecule,basis=j,functional=o,method=k)\n",
        "                   res=get_energy(optimizer=m,backend=p,qubit_op=res1['qubit_op'],seed=42,reps=reps,noise_model=noise_model,coupling_map=coupling_map)\n",
        "                   print(res['eigenvalue'])\n",
        "\n",
        "                   #GroundStateEigensolver\n",
        "                   solver =GroundStateEigensolver(res1['converter'], res['vqe'])\n",
        "                   result=solver.solve(res1['problem_reduced'])\n",
        "                   print(result)\n",
        "\n",
        "                  #  #numpy\n",
        "                  #  print(\"Numpy Energy Result\")\n",
        "                  #  solver =GroundStateEigensolver(res1['converter'], res1['numpy_solver'])\n",
        "                  #  result=solver.solve(res1['problem_reduced'])\n",
        "                  #  print(result)\n",
        "\n",
        "                   mem[i,j,k,m,o,p,reps]= {\n",
        "                       'eigenvalue': res['eigenvalue'],\n",
        "                       'vqe': res['vqe'],\n",
        "                       'qi': res['qi'],\n",
        "                       'converter': res1['converter'],\n",
        "                       'problem_reduced': res1['problem_reduced']\n",
        "                      }\n",
        "\n",
        "#print(mem)"
      ],
      "metadata": {
        "colab": {
          "base_uri": "https://localhost:8080/"
        },
        "id": "yO6QUUV2jlPj",
        "outputId": "b15874e4-2bc2-4516-850f-4d390864b9ce"
      },
      "execution_count": null,
      "outputs": [
        {
          "output_type": "stream",
          "name": "stdout",
          "text": [
            "Al sto3g MethodType.RKS <qiskit.algorithms.optimizers.slsqp.SLSQP object at 0x7cc8a2828790> lda qasm_simulator 1 <qiskit.providers.fake_provider.backends.sherbrooke.fake_sherbrooke.FakeSherbrooke object at 0x7cc8a29dbc70>\n"
          ]
        },
        {
          "output_type": "stream",
          "name": "stderr",
          "text": [
            "<ipython-input-8-e86676056b23>:106: NatureDeprecationWarning: The qiskit_nature.problems.second_quantization.electronic.ElectronicStructureProblem class is deprecated as of version 0.5.0 and will be removed no sooner than 3 months after the release. Instead use the qiskit_nature.second_q.problems.ElectronicStructureProblem class.\n",
            "  res1=get_qubit_op(molecule=molecule,basis=j,functional=o,method=k)\n",
            "<ipython-input-8-e86676056b23>:19: DeprecationWarning: The class ``qiskit.algorithms.minimum_eigen_solvers.numpy_minimum_eigen_solver.NumPyMinimumEigensolver`` is deprecated as of qiskit-terra 0.24.0. It will be removed no earlier than 3 months after the release date. Instead, use the class ``qiskit.algorithms.minimum_eigensolvers.NumPyMinimumEigensolver``. See https://qisk.it/algo_migration for a migration guide.\n",
            "  numpy_solver = NumPyMinimumEigensolver()\n"
          ]
        },
        {
          "output_type": "stream",
          "name": "stdout",
          "text": [
            "backend qasm_simulator\n",
            "seed 42\n"
          ]
        },
        {
          "output_type": "stream",
          "name": "stderr",
          "text": [
            "<ipython-input-8-e86676056b23>:62: DeprecationWarning: The class ``qiskit.utils.quantum_instance.QuantumInstance`` is deprecated as of qiskit-terra 0.24.0. It will be removed no earlier than 3 months after the release date. For code migration guidelines, visit https://qisk.it/qi_migration.\n",
            "  qi = QuantumInstance(backend, noise_model=noise_model, coupling_map=coupling_map, seed_transpiler=seed, seed_simulator=seed)\n",
            "<ipython-input-8-e86676056b23>:65: DeprecationWarning: The class ``qiskit.algorithms.minimum_eigen_solvers.vqe.VQE`` is deprecated as of qiskit-terra 0.24.0. It will be removed no earlier than 3 months after the release date. Instead, use the class ``qiskit.algorithms.minimum_eigensolvers.VQE``. See https://qisk.it/algo_migration for a migration guide.\n",
            "  vqe = VQE(ansatz, optimizer=optimizer, quantum_instance=qi,callback=store_intermediate_result)\n"
          ]
        },
        {
          "output_type": "stream",
          "name": "stdout",
          "text": [
            "(3.705078125+0j)\n"
          ]
        },
        {
          "output_type": "stream",
          "name": "stderr",
          "text": [
            "<ipython-input-8-e86676056b23>:111: NatureDeprecationWarning: The qiskit_nature.algorithms.ground_state_solvers.GroundStateEigensolver class is deprecated as of version 0.5.0 and will be removed no sooner than 3 months after the release. Instead use the qiskit_nature.second_q.algorithms.ground_state_solvers.GroundStateEigensolver class.\n",
            "  solver =GroundStateEigensolver(res1['converter'], res['vqe'])\n"
          ]
        },
        {
          "output_type": "stream",
          "name": "stdout",
          "text": [
            "=== GROUND STATE ENERGY ===\n",
            " \n",
            "* Electronic ground state energy (Hartree): -505.551656662291\n",
            "  - computed part:      -1.404236200468\n",
            "  - ActiveSpaceTransformer extracted energy part: -504.147420461823\n",
            "~ Nuclear repulsion energy (Hartree): 28.339891408341\n",
            "> Total ground state energy (Hartree): -477.21176525395\n",
            " \n",
            "=== MEASURED OBSERVABLES ===\n",
            " \n",
            "  0:  # Particles: 2.638 S: 0.665 S^2: 1.107 M: 0.080\n",
            " \n",
            "=== DIPOLE MOMENTS ===\n",
            " \n",
            "~ Nuclear dipole moment (a.u.): [788.03242329  -546.60328153  0.0]\n",
            " \n",
            "  0: \n",
            "  * Electronic dipole moment (a.u.): [745.37632451  -516.93298623  -0.03475629]\n",
            "    - computed part:      [78.57965865  -54.42251724  -0.03475629]\n",
            "    - ActiveSpaceTransformer extracted energy part: [666.79666586  -462.51046899  0.0]\n",
            "  > Dipole moment (a.u.): [42.65609878  -29.6702953  0.03475629]  Total: 51.96027708\n",
            "                 (debye): [108.42097832  -75.41436125  0.08834167]  Total: 132.06983844\n",
            " \n",
            "Al sto3g MethodType.RKS <qiskit.algorithms.optimizers.slsqp.SLSQP object at 0x7cc8a2828790> lda qasm_simulator 1 fake_manhattan\n"
          ]
        },
        {
          "output_type": "stream",
          "name": "stderr",
          "text": [
            "<ipython-input-8-e86676056b23>:19: DeprecationWarning: The class ``qiskit.algorithms.minimum_eigen_solvers.numpy_minimum_eigen_solver.NumPyMinimumEigensolver`` is deprecated as of qiskit-terra 0.24.0. It will be removed no earlier than 3 months after the release date. Instead, use the class ``qiskit.algorithms.minimum_eigensolvers.NumPyMinimumEigensolver``. See https://qisk.it/algo_migration for a migration guide.\n",
            "  numpy_solver = NumPyMinimumEigensolver()\n"
          ]
        },
        {
          "output_type": "stream",
          "name": "stdout",
          "text": [
            "backend qasm_simulator\n",
            "seed 42\n"
          ]
        },
        {
          "output_type": "stream",
          "name": "stderr",
          "text": [
            "<ipython-input-8-e86676056b23>:62: DeprecationWarning: The class ``qiskit.utils.quantum_instance.QuantumInstance`` is deprecated as of qiskit-terra 0.24.0. It will be removed no earlier than 3 months after the release date. For code migration guidelines, visit https://qisk.it/qi_migration.\n",
            "  qi = QuantumInstance(backend, noise_model=noise_model, coupling_map=coupling_map, seed_transpiler=seed, seed_simulator=seed)\n",
            "<ipython-input-8-e86676056b23>:65: DeprecationWarning: The class ``qiskit.algorithms.minimum_eigen_solvers.vqe.VQE`` is deprecated as of qiskit-terra 0.24.0. It will be removed no earlier than 3 months after the release date. Instead, use the class ``qiskit.algorithms.minimum_eigensolvers.VQE``. See https://qisk.it/algo_migration for a migration guide.\n",
            "  vqe = VQE(ansatz, optimizer=optimizer, quantum_instance=qi,callback=store_intermediate_result)\n"
          ]
        },
        {
          "output_type": "stream",
          "name": "stdout",
          "text": [
            "(3.5302734375000004+0j)\n",
            "=== GROUND STATE ENERGY ===\n",
            " \n",
            "* Electronic ground state energy (Hartree): -505.513732677405\n",
            "  - computed part:      -1.366312215582\n",
            "  - ActiveSpaceTransformer extracted energy part: -504.147420461823\n",
            "~ Nuclear repulsion energy (Hartree): 28.339891408341\n",
            "> Total ground state energy (Hartree): -477.173841269064\n",
            " \n",
            "=== MEASURED OBSERVABLES ===\n",
            " \n",
            "  0:  # Particles: 2.635 S: 0.670 S^2: 1.119 M: -0.005\n",
            " \n",
            "=== DIPOLE MOMENTS ===\n",
            " \n",
            "~ Nuclear dipole moment (a.u.): [788.03242329  -546.60328153  0.0]\n",
            " \n",
            "  0: \n",
            "  * Electronic dipole moment (a.u.): [748.0894941  -518.84628078  0.01339768]\n",
            "    - computed part:      [81.29282824  -56.33581179  0.01339768]\n",
            "    - ActiveSpaceTransformer extracted energy part: [666.79666586  -462.51046899  0.0]\n",
            "  > Dipole moment (a.u.): [39.94292919  -27.75700075  -0.01339768]  Total: 48.6404036\n",
            "                 (debye): [101.52478972  -70.55125205  -0.03405349]  Total: 123.63156253\n",
            " \n",
            "Al sto3g MethodType.RKS <qiskit.algorithms.optimizers.slsqp.SLSQP object at 0x7cc8a2828790> lda qasm_simulator 1 fake_toronto\n"
          ]
        },
        {
          "output_type": "stream",
          "name": "stderr",
          "text": [
            "<ipython-input-8-e86676056b23>:19: DeprecationWarning: The class ``qiskit.algorithms.minimum_eigen_solvers.numpy_minimum_eigen_solver.NumPyMinimumEigensolver`` is deprecated as of qiskit-terra 0.24.0. It will be removed no earlier than 3 months after the release date. Instead, use the class ``qiskit.algorithms.minimum_eigensolvers.NumPyMinimumEigensolver``. See https://qisk.it/algo_migration for a migration guide.\n",
            "  numpy_solver = NumPyMinimumEigensolver()\n"
          ]
        },
        {
          "output_type": "stream",
          "name": "stdout",
          "text": [
            "backend qasm_simulator\n",
            "seed 42\n"
          ]
        },
        {
          "output_type": "stream",
          "name": "stderr",
          "text": [
            "<ipython-input-8-e86676056b23>:62: DeprecationWarning: The class ``qiskit.utils.quantum_instance.QuantumInstance`` is deprecated as of qiskit-terra 0.24.0. It will be removed no earlier than 3 months after the release date. For code migration guidelines, visit https://qisk.it/qi_migration.\n",
            "  qi = QuantumInstance(backend, noise_model=noise_model, coupling_map=coupling_map, seed_transpiler=seed, seed_simulator=seed)\n",
            "<ipython-input-8-e86676056b23>:65: DeprecationWarning: The class ``qiskit.algorithms.minimum_eigen_solvers.vqe.VQE`` is deprecated as of qiskit-terra 0.24.0. It will be removed no earlier than 3 months after the release date. Instead, use the class ``qiskit.algorithms.minimum_eigensolvers.VQE``. See https://qisk.it/algo_migration for a migration guide.\n",
            "  vqe = VQE(ansatz, optimizer=optimizer, quantum_instance=qi,callback=store_intermediate_result)\n"
          ]
        },
        {
          "output_type": "stream",
          "name": "stdout",
          "text": [
            "(3.5439453124999996+0j)\n",
            "=== GROUND STATE ENERGY ===\n",
            " \n",
            "* Electronic ground state energy (Hartree): -505.560646094715\n",
            "  - computed part:      -1.413225632892\n",
            "  - ActiveSpaceTransformer extracted energy part: -504.147420461823\n",
            "~ Nuclear repulsion energy (Hartree): 28.339891408341\n",
            "> Total ground state energy (Hartree): -477.220754686374\n",
            " \n",
            "=== MEASURED OBSERVABLES ===\n",
            " \n",
            "  0:  # Particles: 2.590 S: 0.670 S^2: 1.119 M: 0.120\n",
            " \n",
            "=== DIPOLE MOMENTS ===\n",
            " \n",
            "~ Nuclear dipole moment (a.u.): [788.03242329  -546.60328153  0.0]\n",
            " \n",
            "  0: \n",
            "  * Electronic dipole moment (a.u.): [743.74414645  -515.76450565  -0.01417435]\n",
            "    - computed part:      [76.94748059  -53.25403666  -0.01417435]\n",
            "    - ActiveSpaceTransformer extracted energy part: [666.79666586  -462.51046899  0.0]\n",
            "  > Dipole moment (a.u.): [44.28827684  -30.83877588  0.01417435]  Total: 53.96741391\n",
            "                 (debye): [112.56956075  -78.38434236  0.03602761]  Total: 137.17147091\n",
            " \n",
            "Al sto3g MethodType.RKS <qiskit.algorithms.optimizers.slsqp.SLSQP object at 0x7cc8a2828790> lda qasm_simulator 1 fake_tokyo\n"
          ]
        },
        {
          "output_type": "stream",
          "name": "stderr",
          "text": [
            "<ipython-input-8-e86676056b23>:19: DeprecationWarning: The class ``qiskit.algorithms.minimum_eigen_solvers.numpy_minimum_eigen_solver.NumPyMinimumEigensolver`` is deprecated as of qiskit-terra 0.24.0. It will be removed no earlier than 3 months after the release date. Instead, use the class ``qiskit.algorithms.minimum_eigensolvers.NumPyMinimumEigensolver``. See https://qisk.it/algo_migration for a migration guide.\n",
            "  numpy_solver = NumPyMinimumEigensolver()\n"
          ]
        },
        {
          "output_type": "stream",
          "name": "stdout",
          "text": [
            "backend qasm_simulator\n",
            "seed 42\n"
          ]
        },
        {
          "output_type": "stream",
          "name": "stderr",
          "text": [
            "<ipython-input-8-e86676056b23>:62: DeprecationWarning: The class ``qiskit.utils.quantum_instance.QuantumInstance`` is deprecated as of qiskit-terra 0.24.0. It will be removed no earlier than 3 months after the release date. For code migration guidelines, visit https://qisk.it/qi_migration.\n",
            "  qi = QuantumInstance(backend, noise_model=noise_model, coupling_map=coupling_map, seed_transpiler=seed, seed_simulator=seed)\n",
            "<ipython-input-8-e86676056b23>:65: DeprecationWarning: The class ``qiskit.algorithms.minimum_eigen_solvers.vqe.VQE`` is deprecated as of qiskit-terra 0.24.0. It will be removed no earlier than 3 months after the release date. Instead, use the class ``qiskit.algorithms.minimum_eigensolvers.VQE``. See https://qisk.it/algo_migration for a migration guide.\n",
            "  vqe = VQE(ansatz, optimizer=optimizer, quantum_instance=qi,callback=store_intermediate_result)\n"
          ]
        },
        {
          "output_type": "stream",
          "name": "stdout",
          "text": [
            "(3.4638671875000004+0j)\n",
            "=== GROUND STATE ENERGY ===\n",
            " \n",
            "* Electronic ground state energy (Hartree): -505.532802007965\n",
            "  - computed part:      -1.385381546142\n",
            "  - ActiveSpaceTransformer extracted energy part: -504.147420461823\n",
            "~ Nuclear repulsion energy (Hartree): 28.339891408341\n",
            "> Total ground state energy (Hartree): -477.192910599624\n",
            " \n",
            "=== MEASURED OBSERVABLES ===\n",
            " \n",
            "  0:  # Particles: 2.559 S: 0.660 S^2: 1.096 M: 0.099\n",
            " \n",
            "=== DIPOLE MOMENTS ===\n",
            " \n",
            "~ Nuclear dipole moment (a.u.): [788.03242329  -546.60328153  0.0]\n",
            " \n",
            "  0: \n",
            "  * Electronic dipole moment (a.u.): [743.9848947  -515.9073408  -0.02097028]\n",
            "    - computed part:      [77.18822885  -53.39687181  -0.02097028]\n",
            "    - ActiveSpaceTransformer extracted energy part: [666.79666586  -462.51046899  0.0]\n",
            "  > Dipole moment (a.u.): [44.04752859  -30.69594073  0.02097028]  Total: 53.68822955\n",
            "                 (debye): [111.95763977  -78.02129166  0.05330112]  Total: 136.4618551\n",
            " \n",
            "Al sto3g MethodType.RKS <qiskit.algorithms.optimizers.slsqp.SLSQP object at 0x7cc8a2828790> lda qasm_simulator 1 fake_montreal\n"
          ]
        },
        {
          "output_type": "stream",
          "name": "stderr",
          "text": [
            "<ipython-input-8-e86676056b23>:19: DeprecationWarning: The class ``qiskit.algorithms.minimum_eigen_solvers.numpy_minimum_eigen_solver.NumPyMinimumEigensolver`` is deprecated as of qiskit-terra 0.24.0. It will be removed no earlier than 3 months after the release date. Instead, use the class ``qiskit.algorithms.minimum_eigensolvers.NumPyMinimumEigensolver``. See https://qisk.it/algo_migration for a migration guide.\n",
            "  numpy_solver = NumPyMinimumEigensolver()\n"
          ]
        },
        {
          "output_type": "stream",
          "name": "stdout",
          "text": [
            "backend qasm_simulator\n",
            "seed 42\n"
          ]
        },
        {
          "output_type": "stream",
          "name": "stderr",
          "text": [
            "<ipython-input-8-e86676056b23>:62: DeprecationWarning: The class ``qiskit.utils.quantum_instance.QuantumInstance`` is deprecated as of qiskit-terra 0.24.0. It will be removed no earlier than 3 months after the release date. For code migration guidelines, visit https://qisk.it/qi_migration.\n",
            "  qi = QuantumInstance(backend, noise_model=noise_model, coupling_map=coupling_map, seed_transpiler=seed, seed_simulator=seed)\n",
            "<ipython-input-8-e86676056b23>:65: DeprecationWarning: The class ``qiskit.algorithms.minimum_eigen_solvers.vqe.VQE`` is deprecated as of qiskit-terra 0.24.0. It will be removed no earlier than 3 months after the release date. Instead, use the class ``qiskit.algorithms.minimum_eigensolvers.VQE``. See https://qisk.it/algo_migration for a migration guide.\n",
            "  vqe = VQE(ansatz, optimizer=optimizer, quantum_instance=qi,callback=store_intermediate_result)\n"
          ]
        },
        {
          "output_type": "stream",
          "name": "stdout",
          "text": [
            "(3.703125+0j)\n",
            "=== GROUND STATE ENERGY ===\n",
            " \n",
            "* Electronic ground state energy (Hartree): -505.543062051829\n",
            "  - computed part:      -1.395641590006\n",
            "  - ActiveSpaceTransformer extracted energy part: -504.147420461823\n",
            "~ Nuclear repulsion energy (Hartree): 28.339891408341\n",
            "> Total ground state energy (Hartree): -477.203170643487\n",
            " \n",
            "=== MEASURED OBSERVABLES ===\n",
            " \n",
            "  0:  # Particles: 2.572 S: 0.693 S^2: 1.173 M: 0.074\n",
            " \n",
            "=== DIPOLE MOMENTS ===\n",
            " \n",
            "~ Nuclear dipole moment (a.u.): [788.03242329  -546.60328153  0.0]\n",
            " \n",
            "  0: \n",
            "  * Electronic dipole moment (a.u.): [745.44532188  -517.67251333  -0.02912538]\n",
            "    - computed part:      [78.64865602  -55.16204435  -0.02912538]\n",
            "    - ActiveSpaceTransformer extracted energy part: [666.79666586  -462.51046899  0.0]\n",
            "  > Dipole moment (a.u.): [42.58710141  -28.9307682  0.02912538]  Total: 51.4844773\n",
            "                 (debye): [108.2456045  -73.53467102  0.07402933]  Total: 130.86047615\n",
            " \n"
          ]
        }
      ]
    }
  ]
}